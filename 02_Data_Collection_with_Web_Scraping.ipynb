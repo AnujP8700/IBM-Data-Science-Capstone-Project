{
  "nbformat": 4,
  "nbformat_minor": 0,
  "metadata": {
    "colab": {
      "provenance": [],
      "toc_visible": true
    },
    "kernelspec": {
      "name": "python3",
      "display_name": "Python 3"
    },
    "language_info": {
      "name": "python"
    }
  },
  "cells": [
    {
      "cell_type": "markdown",
      "source": [
        "## Data Collection - Web Scrapping"
      ],
      "metadata": {
        "id": "7Hw2haeqwOF9"
      }
    },
    {
      "cell_type": "markdown",
      "source": [
        "#### Importing Required Packages and Defining Auxiliary functions"
      ],
      "metadata": {
        "id": "nmaH_zpFwX7z"
      }
    },
    {
      "cell_type": "code",
      "source": [
        "# Will web scrap Falcon 9 launch records with BeautifulSoup as a HTML table and then convert it to Pandas dataframe\n",
        "\n",
        "#!pip3 install beautifulsoup4\n",
        "#!pip3 install requests"
      ],
      "metadata": {
        "id": "MQInzLVJw4qN"
      },
      "execution_count": null,
      "outputs": []
    },
    {
      "cell_type": "code",
      "source": [
        "import sys\n",
        "import requests\n",
        "from bs4 import BeautifulSoup\n",
        "import re\n",
        "import unicodedata\n",
        "import pandas as pd"
      ],
      "metadata": {
        "id": "w3yzwkmrxRP4"
      },
      "execution_count": null,
      "outputs": []
    },
    {
      "cell_type": "code",
      "source": [
        "# Defining some helper functions to process web scrapped HTML table\n",
        "\n",
        "def date_time(table_cells):\n",
        "  '''\n",
        "  This function returns date and time from the HTML table cell.\n",
        "  Input: The element of a table data cell extracts extra row\n",
        "  '''\n",
        "  return [data_time.strip() for data_time in list(table_cells.strings)][0:2]\n",
        "\n",
        "def booster_version(table_cells):\n",
        "  '''\n",
        "  This function returns the booster version from the HTML table cell.\n",
        "  Input: The element of a table data cell extracts extra row\n",
        "  '''\n",
        "  out = ''.join([booster_version for i, booster_version in enumerate(list(table_cells.strings)) if i%2 == 0][0:-1])\n",
        "  return out\n",
        "\n",
        "def landing_status(table_cells):\n",
        "  '''\n",
        "  This function returns the landing status from the HTML table cell.\n",
        "  Input: The element of a table data cell extracts extra row\n",
        "  '''\n",
        "  out = [i for i in table_cells.strings][0]\n",
        "  return out\n",
        "\n",
        "def get_mass(table_cells):\n",
        "  mass = unicodedata.normalize('NFKD', table_cells.text).strip()\n",
        "  if mass:\n",
        "    mass.find('kg')\n",
        "    new_mass = mass[0: mass.find('kg') + 2]\n",
        "  else:\n",
        "    new_mass = 0\n",
        "  return new_mass\n",
        "\n",
        "def extract_column_from_header(row):\n",
        "  '''\n",
        "  This function returns the landing status from the HTML table cell.\n",
        "  Input: The element of a table data cell extracts extra row\n",
        "  '''\n",
        "  if (row.br):\n",
        "    row.br.extract()\n",
        "  if row.a:\n",
        "    row.a.extract()\n",
        "  if row.sup:\n",
        "    row.sup.extract()\n",
        "\n",
        "  column_name = ' '.join(row.contents)\n",
        "\n",
        "  # Filter the digit and empty names\n",
        "  if not(column_name.strip().isdigit()):\n",
        "    column_name = column_name.strip()\n",
        "    return column_name"
      ],
      "metadata": {
        "id": "DVTdku8gxd5j"
      },
      "execution_count": null,
      "outputs": []
    },
    {
      "cell_type": "markdown",
      "source": [
        "#### Task 1: Request the Falcon 9 Launch Wiki Page from its URL"
      ],
      "metadata": {
        "id": "yb6ldrie2QS_"
      }
    },
    {
      "cell_type": "code",
      "source": [
        "# To keep the lab tasks consistent, scrap the data from a snapshot of the Wiki page from 9th June 2021\n",
        "static_url = 'https://en.wikipedia.org/w/index.php?title=List_of_Falcon_9_and_Falcon_Heavy_launches&oldid=1027686922'"
      ],
      "metadata": {
        "id": "sC8jzLtn2Iwr"
      },
      "execution_count": null,
      "outputs": []
    },
    {
      "cell_type": "code",
      "source": [
        "# Perform a HTTP GET request to get the Falcon 9 HTML page as an HTTP response\n",
        "response = requests.get(static_url)\n",
        "\n",
        "# Create a BeautfulSoup object from the HTML response\n",
        "soup = BeautifulSoup(response.text, 'html.parser')\n",
        "\n",
        "# Print the page title to verify the BeautifulSoup object was created properly\n",
        "print(soup.title)"
      ],
      "metadata": {
        "colab": {
          "base_uri": "https://localhost:8080/"
        },
        "id": "6PBvKYb1biz_",
        "outputId": "4d2fea5f-4196-49ac-c59f-3ba9b706cb8c"
      },
      "execution_count": null,
      "outputs": [
        {
          "output_type": "stream",
          "name": "stdout",
          "text": [
            "<title>List of Falcon 9 and Falcon Heavy launches - Wikipedia</title>\n"
          ]
        }
      ]
    },
    {
      "cell_type": "markdown",
      "source": [
        "#### Task 2: Extract All Column/Variable Names from the HTML Header Table"
      ],
      "metadata": {
        "id": "hWtN6D_tcRDW"
      }
    },
    {
      "cell_type": "code",
      "source": [
        "# Finding all the tables on the wiki page\n",
        "html_tables = soup.find_all(name = 'table')\n",
        "#html_tables[0]   # Uncomment this line it to verify that the list is created properly"
      ],
      "metadata": {
        "id": "Rw8319eNoFDU"
      },
      "execution_count": null,
      "outputs": []
    },
    {
      "cell_type": "code",
      "source": [
        "# Printing third table to check its content\n",
        "first_launch_table = html_tables[2]\n",
        "# print(first_launch_table)"
      ],
      "metadata": {
        "id": "HbHpDzMnpQbT"
      },
      "execution_count": null,
      "outputs": []
    },
    {
      "cell_type": "code",
      "source": [
        "# Checking the column names embedded in table header elements <th>\n",
        "first_launch_table.find_all(name = 'th')"
      ],
      "metadata": {
        "id": "506VhldMp-ei"
      },
      "execution_count": null,
      "outputs": []
    },
    {
      "cell_type": "code",
      "source": [
        "column_names = []\n",
        "first_launch_table_headers = first_launch_table.find_all(name = 'th')\n",
        "for row in first_launch_table_headers:\n",
        "  header = extract_column_from_header(row)\n",
        "  if header:\n",
        "    column_names.append(header)"
      ],
      "metadata": {
        "id": "B5x-kouUxqM8"
      },
      "execution_count": null,
      "outputs": []
    },
    {
      "cell_type": "code",
      "source": [
        "print(column_names)"
      ],
      "metadata": {
        "colab": {
          "base_uri": "https://localhost:8080/"
        },
        "id": "c6aB6Zb41h57",
        "outputId": "67c05f69-9455-4706-b6b0-4fa1b37c67a4"
      },
      "execution_count": null,
      "outputs": [
        {
          "output_type": "stream",
          "name": "stdout",
          "text": [
            "['Flight No.', 'Date and time ( )', 'Launch site', 'Payload', 'Payload mass', 'Orbit', 'Customer', 'Launch outcome']\n"
          ]
        }
      ]
    },
    {
      "cell_type": "markdown",
      "source": [
        "#### Task 3: Create a Dataframe by Parsing the Launch HTML Tables"
      ],
      "metadata": {
        "id": "_7VVXctu1nFO"
      }
    },
    {
      "cell_type": "code",
      "source": [
        "# Creating an empty dictionary with keys from the extracted column names.\n",
        "# Later, this dictionary will be converted into a Pandas dataframe.\n",
        "\n",
        "launch_dict = dict.fromkeys(column_names)\n",
        "\n",
        "# Remove an irrelevant column\n",
        "del launch_dict['Date and time ( )']\n",
        "\n",
        "# Initializing the launch_dict with each value to be an empty list\n",
        "for key_ in launch_dict.keys():\n",
        "  launch_dict[key_] = []\n",
        "\n",
        "# Adding some new columns\n",
        "launch_dict['Version Booster'] = []\n",
        "launch_dict['Booster Landing'] = []\n",
        "launch_dict['Date'] = []\n",
        "launch_dict['Time'] = []\n",
        "\n",
        "launch_dict"
      ],
      "metadata": {
        "colab": {
          "base_uri": "https://localhost:8080/"
        },
        "id": "OdZMWkah1v11",
        "outputId": "e9a60b67-d202-452a-bdad-58056567991b"
      },
      "execution_count": null,
      "outputs": [
        {
          "output_type": "execute_result",
          "data": {
            "text/plain": [
              "{'Flight No.': [],\n",
              " 'Launch site': [],\n",
              " 'Payload': [],\n",
              " 'Payload mass': [],\n",
              " 'Orbit': [],\n",
              " 'Customer': [],\n",
              " 'Launch outcome': [],\n",
              " 'Version Booster': [],\n",
              " 'Booster Landing': [],\n",
              " 'Date': [],\n",
              " 'Time': []}"
            ]
          },
          "metadata": {},
          "execution_count": 11
        }
      ]
    },
    {
      "cell_type": "code",
      "source": [
        "# Filling up the launch_dict with launch records from table records.\n",
        "# HTML tables on Wiki pages are likely to contain unexpected annotations and other types of noises - will be dealing with thos noises as well.\n",
        "\n",
        "extracted_row = 0\n",
        "\n",
        "# Extract each table\n",
        "for table_number, table in enumerate(soup.find_all('table', 'wikitable plainrowheaders collapsible')):\n",
        "\n",
        "  # Get table row\n",
        "  for rows in table.find_all('tr'):\n",
        "\n",
        "    # Check to see if first table heading is as number corresponding to a launch number\n",
        "    if rows.th:\n",
        "      if rows.th.string:\n",
        "        flight_number = rows.th.string.strip()\n",
        "        flag = flight_number.isdigit()\n",
        "    else:\n",
        "      flag = False\n",
        "\n",
        "    # Get table element\n",
        "    row = rows.find_all('td')\n",
        "\n",
        "    # If it is a nuber, save cells in a dictionary\n",
        "    if flag:\n",
        "      extracted_row += 1\n",
        "      # Flight number value\n",
        "      launch_dict['Flight No.'].append(flight_number)\n",
        "      #print(flight_number)\n",
        "      datatimelist = date_time(row[0])\n",
        "\n",
        "      # Date value\n",
        "      date = datatimelist[0].strip(',')\n",
        "      launch_dict['Date'].append(date)\n",
        "      #print(date)\n",
        "\n",
        "      # Time value\n",
        "      time = datatimelist[1]\n",
        "      launch_dict['Time'].append(time)\n",
        "      #print(time)\n",
        "\n",
        "      # Booster version\n",
        "      bv = booster_version(row[1])\n",
        "      if not(bv):\n",
        "        bv = row[2].a.string\n",
        "      launch_dict['Version Booster'].append(bv)\n",
        "      #print(bv)\n",
        "\n",
        "      # Launch site\n",
        "      launch_site = row[2].a.string\n",
        "      launch_dict['Launch site'].append(launch_site)\n",
        "      #print(launch_site)\n",
        "\n",
        "      # Payload\n",
        "      payload = row[3].a.string\n",
        "      launch_dict['Payload'].append(payload)\n",
        "      #print(payload)\n",
        "\n",
        "      # Payload mass\n",
        "      payload_mass = get_mass(row[4])\n",
        "      launch_dict['Payload mass'].append(payload_mass)\n",
        "      #print(payload_mass)\n",
        "\n",
        "      # Orbit\n",
        "      orbit = row[5].a.string\n",
        "      launch_dict['Orbit'].append(orbit)\n",
        "      #print(orbit)\n",
        "\n",
        "      # Customer\n",
        "      # Adding this extra try-except block as there is a value in table 8 under Customer column which does not have an anchor tag and therefore gives error\n",
        "      try:\n",
        "        customer = row[6].a.string\n",
        "      except:\n",
        "        customer = row[6].string.strip()\n",
        "      launch_dict['Customer'].append(customer)\n",
        "      #print(customer)\n",
        "\n",
        "      # Launch outcome\n",
        "      launch_outcome = list(row[7].strings)[0]\n",
        "      launch_dict['Launch outcome'].append(launch_outcome)\n",
        "      #print(launch_outcome)\n",
        "\n",
        "      # Booster landing\n",
        "      booster_landing = landing_status(row[8])\n",
        "      launch_dict['Booster Landing'].append(booster_landing)\n",
        "      #print(booster_landing)"
      ],
      "metadata": {
        "id": "WcvxEXhF6zb4"
      },
      "execution_count": null,
      "outputs": []
    },
    {
      "cell_type": "code",
      "source": [
        "# Creating a dataframe using launch_dict\n",
        "\n",
        "df = pd.DataFrame({key: pd.Series(value) for key, value in launch_dict.items()})\n",
        "df.head()"
      ],
      "metadata": {
        "colab": {
          "base_uri": "https://localhost:8080/",
          "height": 258
        },
        "id": "B6HcbjpSM9P-",
        "outputId": "a353c907-0336-440e-d94f-60db49173ce1"
      },
      "execution_count": null,
      "outputs": [
        {
          "output_type": "execute_result",
          "data": {
            "text/plain": [
              "  Flight No. Launch site                               Payload Payload mass  \\\n",
              "0          1       CCAFS  Dragon Spacecraft Qualification Unit            0   \n",
              "1          2       CCAFS                                Dragon            0   \n",
              "2          3       CCAFS                                Dragon       525 kg   \n",
              "3          4       CCAFS                          SpaceX CRS-1     4,700 kg   \n",
              "4          5       CCAFS                          SpaceX CRS-2     4,877 kg   \n",
              "\n",
              "  Orbit Customer Launch outcome Version Booster Booster Landing  \\\n",
              "0   LEO   SpaceX      Success\\n  F9 v1.0B0003.1         Failure   \n",
              "1   LEO     NASA        Success  F9 v1.0B0004.1         Failure   \n",
              "2   LEO     NASA        Success  F9 v1.0B0005.1    No attempt\\n   \n",
              "3   LEO     NASA      Success\\n  F9 v1.0B0006.1      No attempt   \n",
              "4   LEO     NASA      Success\\n  F9 v1.0B0007.1    No attempt\\n   \n",
              "\n",
              "              Date   Time  \n",
              "0      4 June 2010  18:45  \n",
              "1  8 December 2010  15:43  \n",
              "2      22 May 2012  07:44  \n",
              "3   8 October 2012  00:35  \n",
              "4     1 March 2013  15:10  "
            ],
            "text/html": [
              "\n",
              "  <div id=\"df-f4af129e-4619-4413-973b-cce9b1b9e672\" class=\"colab-df-container\">\n",
              "    <div>\n",
              "<style scoped>\n",
              "    .dataframe tbody tr th:only-of-type {\n",
              "        vertical-align: middle;\n",
              "    }\n",
              "\n",
              "    .dataframe tbody tr th {\n",
              "        vertical-align: top;\n",
              "    }\n",
              "\n",
              "    .dataframe thead th {\n",
              "        text-align: right;\n",
              "    }\n",
              "</style>\n",
              "<table border=\"1\" class=\"dataframe\">\n",
              "  <thead>\n",
              "    <tr style=\"text-align: right;\">\n",
              "      <th></th>\n",
              "      <th>Flight No.</th>\n",
              "      <th>Launch site</th>\n",
              "      <th>Payload</th>\n",
              "      <th>Payload mass</th>\n",
              "      <th>Orbit</th>\n",
              "      <th>Customer</th>\n",
              "      <th>Launch outcome</th>\n",
              "      <th>Version Booster</th>\n",
              "      <th>Booster Landing</th>\n",
              "      <th>Date</th>\n",
              "      <th>Time</th>\n",
              "    </tr>\n",
              "  </thead>\n",
              "  <tbody>\n",
              "    <tr>\n",
              "      <th>0</th>\n",
              "      <td>1</td>\n",
              "      <td>CCAFS</td>\n",
              "      <td>Dragon Spacecraft Qualification Unit</td>\n",
              "      <td>0</td>\n",
              "      <td>LEO</td>\n",
              "      <td>SpaceX</td>\n",
              "      <td>Success\\n</td>\n",
              "      <td>F9 v1.0B0003.1</td>\n",
              "      <td>Failure</td>\n",
              "      <td>4 June 2010</td>\n",
              "      <td>18:45</td>\n",
              "    </tr>\n",
              "    <tr>\n",
              "      <th>1</th>\n",
              "      <td>2</td>\n",
              "      <td>CCAFS</td>\n",
              "      <td>Dragon</td>\n",
              "      <td>0</td>\n",
              "      <td>LEO</td>\n",
              "      <td>NASA</td>\n",
              "      <td>Success</td>\n",
              "      <td>F9 v1.0B0004.1</td>\n",
              "      <td>Failure</td>\n",
              "      <td>8 December 2010</td>\n",
              "      <td>15:43</td>\n",
              "    </tr>\n",
              "    <tr>\n",
              "      <th>2</th>\n",
              "      <td>3</td>\n",
              "      <td>CCAFS</td>\n",
              "      <td>Dragon</td>\n",
              "      <td>525 kg</td>\n",
              "      <td>LEO</td>\n",
              "      <td>NASA</td>\n",
              "      <td>Success</td>\n",
              "      <td>F9 v1.0B0005.1</td>\n",
              "      <td>No attempt\\n</td>\n",
              "      <td>22 May 2012</td>\n",
              "      <td>07:44</td>\n",
              "    </tr>\n",
              "    <tr>\n",
              "      <th>3</th>\n",
              "      <td>4</td>\n",
              "      <td>CCAFS</td>\n",
              "      <td>SpaceX CRS-1</td>\n",
              "      <td>4,700 kg</td>\n",
              "      <td>LEO</td>\n",
              "      <td>NASA</td>\n",
              "      <td>Success\\n</td>\n",
              "      <td>F9 v1.0B0006.1</td>\n",
              "      <td>No attempt</td>\n",
              "      <td>8 October 2012</td>\n",
              "      <td>00:35</td>\n",
              "    </tr>\n",
              "    <tr>\n",
              "      <th>4</th>\n",
              "      <td>5</td>\n",
              "      <td>CCAFS</td>\n",
              "      <td>SpaceX CRS-2</td>\n",
              "      <td>4,877 kg</td>\n",
              "      <td>LEO</td>\n",
              "      <td>NASA</td>\n",
              "      <td>Success\\n</td>\n",
              "      <td>F9 v1.0B0007.1</td>\n",
              "      <td>No attempt\\n</td>\n",
              "      <td>1 March 2013</td>\n",
              "      <td>15:10</td>\n",
              "    </tr>\n",
              "  </tbody>\n",
              "</table>\n",
              "</div>\n",
              "    <div class=\"colab-df-buttons\">\n",
              "\n",
              "  <div class=\"colab-df-container\">\n",
              "    <button class=\"colab-df-convert\" onclick=\"convertToInteractive('df-f4af129e-4619-4413-973b-cce9b1b9e672')\"\n",
              "            title=\"Convert this dataframe to an interactive table.\"\n",
              "            style=\"display:none;\">\n",
              "\n",
              "  <svg xmlns=\"http://www.w3.org/2000/svg\" height=\"24px\" viewBox=\"0 -960 960 960\">\n",
              "    <path d=\"M120-120v-720h720v720H120Zm60-500h600v-160H180v160Zm220 220h160v-160H400v160Zm0 220h160v-160H400v160ZM180-400h160v-160H180v160Zm440 0h160v-160H620v160ZM180-180h160v-160H180v160Zm440 0h160v-160H620v160Z\"/>\n",
              "  </svg>\n",
              "    </button>\n",
              "\n",
              "  <style>\n",
              "    .colab-df-container {\n",
              "      display:flex;\n",
              "      gap: 12px;\n",
              "    }\n",
              "\n",
              "    .colab-df-convert {\n",
              "      background-color: #E8F0FE;\n",
              "      border: none;\n",
              "      border-radius: 50%;\n",
              "      cursor: pointer;\n",
              "      display: none;\n",
              "      fill: #1967D2;\n",
              "      height: 32px;\n",
              "      padding: 0 0 0 0;\n",
              "      width: 32px;\n",
              "    }\n",
              "\n",
              "    .colab-df-convert:hover {\n",
              "      background-color: #E2EBFA;\n",
              "      box-shadow: 0px 1px 2px rgba(60, 64, 67, 0.3), 0px 1px 3px 1px rgba(60, 64, 67, 0.15);\n",
              "      fill: #174EA6;\n",
              "    }\n",
              "\n",
              "    .colab-df-buttons div {\n",
              "      margin-bottom: 4px;\n",
              "    }\n",
              "\n",
              "    [theme=dark] .colab-df-convert {\n",
              "      background-color: #3B4455;\n",
              "      fill: #D2E3FC;\n",
              "    }\n",
              "\n",
              "    [theme=dark] .colab-df-convert:hover {\n",
              "      background-color: #434B5C;\n",
              "      box-shadow: 0px 1px 3px 1px rgba(0, 0, 0, 0.15);\n",
              "      filter: drop-shadow(0px 1px 2px rgba(0, 0, 0, 0.3));\n",
              "      fill: #FFFFFF;\n",
              "    }\n",
              "  </style>\n",
              "\n",
              "    <script>\n",
              "      const buttonEl =\n",
              "        document.querySelector('#df-f4af129e-4619-4413-973b-cce9b1b9e672 button.colab-df-convert');\n",
              "      buttonEl.style.display =\n",
              "        google.colab.kernel.accessAllowed ? 'block' : 'none';\n",
              "\n",
              "      async function convertToInteractive(key) {\n",
              "        const element = document.querySelector('#df-f4af129e-4619-4413-973b-cce9b1b9e672');\n",
              "        const dataTable =\n",
              "          await google.colab.kernel.invokeFunction('convertToInteractive',\n",
              "                                                    [key], {});\n",
              "        if (!dataTable) return;\n",
              "\n",
              "        const docLinkHtml = 'Like what you see? Visit the ' +\n",
              "          '<a target=\"_blank\" href=https://colab.research.google.com/notebooks/data_table.ipynb>data table notebook</a>'\n",
              "          + ' to learn more about interactive tables.';\n",
              "        element.innerHTML = '';\n",
              "        dataTable['output_type'] = 'display_data';\n",
              "        await google.colab.output.renderOutput(dataTable, element);\n",
              "        const docLink = document.createElement('div');\n",
              "        docLink.innerHTML = docLinkHtml;\n",
              "        element.appendChild(docLink);\n",
              "      }\n",
              "    </script>\n",
              "  </div>\n",
              "\n",
              "\n",
              "<div id=\"df-26893f6b-d35b-4a45-8264-c4fd0cb6113a\">\n",
              "  <button class=\"colab-df-quickchart\" onclick=\"quickchart('df-26893f6b-d35b-4a45-8264-c4fd0cb6113a')\"\n",
              "            title=\"Suggest charts\"\n",
              "            style=\"display:none;\">\n",
              "\n",
              "<svg xmlns=\"http://www.w3.org/2000/svg\" height=\"24px\"viewBox=\"0 0 24 24\"\n",
              "     width=\"24px\">\n",
              "    <g>\n",
              "        <path d=\"M19 3H5c-1.1 0-2 .9-2 2v14c0 1.1.9 2 2 2h14c1.1 0 2-.9 2-2V5c0-1.1-.9-2-2-2zM9 17H7v-7h2v7zm4 0h-2V7h2v10zm4 0h-2v-4h2v4z\"/>\n",
              "    </g>\n",
              "</svg>\n",
              "  </button>\n",
              "\n",
              "<style>\n",
              "  .colab-df-quickchart {\n",
              "      --bg-color: #E8F0FE;\n",
              "      --fill-color: #1967D2;\n",
              "      --hover-bg-color: #E2EBFA;\n",
              "      --hover-fill-color: #174EA6;\n",
              "      --disabled-fill-color: #AAA;\n",
              "      --disabled-bg-color: #DDD;\n",
              "  }\n",
              "\n",
              "  [theme=dark] .colab-df-quickchart {\n",
              "      --bg-color: #3B4455;\n",
              "      --fill-color: #D2E3FC;\n",
              "      --hover-bg-color: #434B5C;\n",
              "      --hover-fill-color: #FFFFFF;\n",
              "      --disabled-bg-color: #3B4455;\n",
              "      --disabled-fill-color: #666;\n",
              "  }\n",
              "\n",
              "  .colab-df-quickchart {\n",
              "    background-color: var(--bg-color);\n",
              "    border: none;\n",
              "    border-radius: 50%;\n",
              "    cursor: pointer;\n",
              "    display: none;\n",
              "    fill: var(--fill-color);\n",
              "    height: 32px;\n",
              "    padding: 0;\n",
              "    width: 32px;\n",
              "  }\n",
              "\n",
              "  .colab-df-quickchart:hover {\n",
              "    background-color: var(--hover-bg-color);\n",
              "    box-shadow: 0 1px 2px rgba(60, 64, 67, 0.3), 0 1px 3px 1px rgba(60, 64, 67, 0.15);\n",
              "    fill: var(--button-hover-fill-color);\n",
              "  }\n",
              "\n",
              "  .colab-df-quickchart-complete:disabled,\n",
              "  .colab-df-quickchart-complete:disabled:hover {\n",
              "    background-color: var(--disabled-bg-color);\n",
              "    fill: var(--disabled-fill-color);\n",
              "    box-shadow: none;\n",
              "  }\n",
              "\n",
              "  .colab-df-spinner {\n",
              "    border: 2px solid var(--fill-color);\n",
              "    border-color: transparent;\n",
              "    border-bottom-color: var(--fill-color);\n",
              "    animation:\n",
              "      spin 1s steps(1) infinite;\n",
              "  }\n",
              "\n",
              "  @keyframes spin {\n",
              "    0% {\n",
              "      border-color: transparent;\n",
              "      border-bottom-color: var(--fill-color);\n",
              "      border-left-color: var(--fill-color);\n",
              "    }\n",
              "    20% {\n",
              "      border-color: transparent;\n",
              "      border-left-color: var(--fill-color);\n",
              "      border-top-color: var(--fill-color);\n",
              "    }\n",
              "    30% {\n",
              "      border-color: transparent;\n",
              "      border-left-color: var(--fill-color);\n",
              "      border-top-color: var(--fill-color);\n",
              "      border-right-color: var(--fill-color);\n",
              "    }\n",
              "    40% {\n",
              "      border-color: transparent;\n",
              "      border-right-color: var(--fill-color);\n",
              "      border-top-color: var(--fill-color);\n",
              "    }\n",
              "    60% {\n",
              "      border-color: transparent;\n",
              "      border-right-color: var(--fill-color);\n",
              "    }\n",
              "    80% {\n",
              "      border-color: transparent;\n",
              "      border-right-color: var(--fill-color);\n",
              "      border-bottom-color: var(--fill-color);\n",
              "    }\n",
              "    90% {\n",
              "      border-color: transparent;\n",
              "      border-bottom-color: var(--fill-color);\n",
              "    }\n",
              "  }\n",
              "</style>\n",
              "\n",
              "  <script>\n",
              "    async function quickchart(key) {\n",
              "      const quickchartButtonEl =\n",
              "        document.querySelector('#' + key + ' button');\n",
              "      quickchartButtonEl.disabled = true;  // To prevent multiple clicks.\n",
              "      quickchartButtonEl.classList.add('colab-df-spinner');\n",
              "      try {\n",
              "        const charts = await google.colab.kernel.invokeFunction(\n",
              "            'suggestCharts', [key], {});\n",
              "      } catch (error) {\n",
              "        console.error('Error during call to suggestCharts:', error);\n",
              "      }\n",
              "      quickchartButtonEl.classList.remove('colab-df-spinner');\n",
              "      quickchartButtonEl.classList.add('colab-df-quickchart-complete');\n",
              "    }\n",
              "    (() => {\n",
              "      let quickchartButtonEl =\n",
              "        document.querySelector('#df-26893f6b-d35b-4a45-8264-c4fd0cb6113a button');\n",
              "      quickchartButtonEl.style.display =\n",
              "        google.colab.kernel.accessAllowed ? 'block' : 'none';\n",
              "    })();\n",
              "  </script>\n",
              "</div>\n",
              "\n",
              "    </div>\n",
              "  </div>\n"
            ],
            "application/vnd.google.colaboratory.intrinsic+json": {
              "type": "dataframe",
              "variable_name": "df",
              "summary": "{\n  \"name\": \"df\",\n  \"rows\": 121,\n  \"fields\": [\n    {\n      \"column\": \"Flight No.\",\n      \"properties\": {\n        \"dtype\": \"string\",\n        \"num_unique_values\": 121,\n        \"samples\": [\n          \"45\",\n          \"48\",\n          \"5\"\n        ],\n        \"semantic_type\": \"\",\n        \"description\": \"\"\n      }\n    },\n    {\n      \"column\": \"Launch site\",\n      \"properties\": {\n        \"dtype\": \"category\",\n        \"num_unique_values\": 5,\n        \"samples\": [\n          \"VAFB\",\n          \"CCSFS\",\n          \"Cape Canaveral\"\n        ],\n        \"semantic_type\": \"\",\n        \"description\": \"\"\n      }\n    },\n    {\n      \"column\": \"Payload\",\n      \"properties\": {\n        \"dtype\": \"string\",\n        \"num_unique_values\": 82,\n        \"samples\": [\n          \"NROL-76\",\n          \"Dragon Spacecraft Qualification Unit\",\n          \"Thaicom 8\"\n        ],\n        \"semantic_type\": \"\",\n        \"description\": \"\"\n      }\n    },\n    {\n      \"column\": \"Payload mass\",\n      \"properties\": {\n        \"dtype\": \"string\",\n        \"num_unique_values\": 84,\n        \"samples\": [\n          \"14,932 kg\",\n          0,\n          \"12,055 kg\"\n        ],\n        \"semantic_type\": \"\",\n        \"description\": \"\"\n      }\n    },\n    {\n      \"column\": \"Orbit\",\n      \"properties\": {\n        \"dtype\": \"category\",\n        \"num_unique_values\": 8,\n        \"samples\": [\n          \"Polar orbit\",\n          \"SSO\",\n          \"LEO\"\n        ],\n        \"semantic_type\": \"\",\n        \"description\": \"\"\n      }\n    },\n    {\n      \"column\": \"Customer\",\n      \"properties\": {\n        \"dtype\": \"category\",\n        \"num_unique_values\": 38,\n        \"samples\": [\n          \"Republic of Korea Army\",\n          \"T\\u00fcrksat\",\n          \"Thaicom\"\n        ],\n        \"semantic_type\": \"\",\n        \"description\": \"\"\n      }\n    },\n    {\n      \"column\": \"Launch outcome\",\n      \"properties\": {\n        \"dtype\": \"category\",\n        \"num_unique_values\": 3,\n        \"samples\": [\n          \"Success\\n\",\n          \"Success\",\n          \"Failure\"\n        ],\n        \"semantic_type\": \"\",\n        \"description\": \"\"\n      }\n    },\n    {\n      \"column\": \"Version Booster\",\n      \"properties\": {\n        \"dtype\": \"category\",\n        \"num_unique_values\": 54,\n        \"samples\": [\n          \"F9 B4B1039.2\",\n          \"F9 B5B1049.9\",\n          \"F9 B5B1060.7\"\n        ],\n        \"semantic_type\": \"\",\n        \"description\": \"\"\n      }\n    },\n    {\n      \"column\": \"Booster Landing\",\n      \"properties\": {\n        \"dtype\": \"category\",\n        \"num_unique_values\": 8,\n        \"samples\": [\n          \"No attempt\\n\",\n          \"Failure \",\n          \"Failure\"\n        ],\n        \"semantic_type\": \"\",\n        \"description\": \"\"\n      }\n    },\n    {\n      \"column\": \"Date\",\n      \"properties\": {\n        \"dtype\": \"object\",\n        \"num_unique_values\": 121,\n        \"samples\": [\n          \"15 December 2017\",\n          \"31 January 2018\",\n          \"1 March 2013\"\n        ],\n        \"semantic_type\": \"\",\n        \"description\": \"\"\n      }\n    },\n    {\n      \"column\": \"Time\",\n      \"properties\": {\n        \"dtype\": \"object\",\n        \"num_unique_values\": 116,\n        \"samples\": [\n          \"20:10:46\",\n          \"15:10\",\n          \"19:34\"\n        ],\n        \"semantic_type\": \"\",\n        \"description\": \"\"\n      }\n    }\n  ]\n}"
            }
          },
          "metadata": {},
          "execution_count": 13
        }
      ]
    }
  ]
}