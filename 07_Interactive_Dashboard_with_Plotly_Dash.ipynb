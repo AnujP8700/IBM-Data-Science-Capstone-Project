{
 "cells": [
  {
   "cell_type": "markdown",
   "metadata": {},
   "source": [
    "#### Introduction"
   ]
  },
  {
   "cell_type": "markdown",
   "metadata": {},
   "source": [
    "Objective of lab:\n",
    "> Create a dashboard application that contains input components such as a dropdown list and a range slider to interact with a pie chart and a scatter point chart."
   ]
  },
  {
   "cell_type": "markdown",
   "metadata": {},
   "source": [
    "* **Task 1:** Add a Laucnh Site dropdown input component\n",
    "* **Task 2:** Add a callback function to render <code>success-pie-chart</code> based on selected site dropdown\n",
    "* **Task 3:** Add a Range slider to select Payload\n",
    "* **Task 4:** Add a callback function to render the <code>success-payload-scatter-chart</code> scatter plot"
   ]
  },
  {
   "cell_type": "markdown",
   "metadata": {},
   "source": [
    "#### Pre-requisites"
   ]
  },
  {
   "cell_type": "code",
   "execution_count": 2,
   "metadata": {},
   "outputs": [],
   "source": [
    "# Run the below command in your terminal to install the Python packages required for running the application\n",
    "# python3.11 -m pip install pandas dash\n",
    "\n",
    "# Run the below command in your terminal to download the dataset (csv) file \n",
    "# wget \"https://cf-courses-data.s3.us.cloud-object-storage.appdomain.cloud/IBM-DS0321EN-SkillsNetwork/datasets/spacex_launch_dash.csv\"\n",
    "\n",
    "# Run the below command in your terminal to download a skeleton Dash app to be completed\n",
    "# wget \"https://cf-courses-data.s3.us.cloud-object-storage.appdomain.cloud/IBM-DS0321EN-SkillsNetwork/labs/module_3/spacex_dash_app.py\"\n",
    "\n",
    "# Running the above file will render a nearly blank page. "
   ]
  },
  {
   "cell_type": "markdown",
   "metadata": {},
   "source": [
    "Refer to the below lab if you want to refresh the basics about Plotly Dash components and callback functions.\n",
    "\n",
    "<a href = \"https://cf-courses-data.s3.us.cloud-object-storage.appdomain.cloud/IBMDeveloperSkillsNetwork-DV0101EN-SkillsNetwork/labs/Module%204/4.7_Dash_Interactivity.py\">Plotly Dash Lab</a>"
   ]
  },
  {
   "cell_type": "markdown",
   "metadata": {},
   "source": [
    "#### Building Application"
   ]
  },
  {
   "cell_type": "code",
   "execution_count": 40,
   "metadata": {},
   "outputs": [],
   "source": [
    "# Importing required libraries\n",
    "\n",
    "import pandas as pd\n",
    "import numpy as np\n",
    "import plotly.graph_objects as go\n",
    "import plotly.express as px\n",
    "import dash\n",
    "import dash_core_components as dcc\n",
    "import dash_html_components as html\n",
    "from dash.dependencies import Input, Output"
   ]
  },
  {
   "cell_type": "code",
   "execution_count": 10,
   "metadata": {},
   "outputs": [
    {
     "data": {
      "text/html": [
       "<div>\n",
       "<style scoped>\n",
       "    .dataframe tbody tr th:only-of-type {\n",
       "        vertical-align: middle;\n",
       "    }\n",
       "\n",
       "    .dataframe tbody tr th {\n",
       "        vertical-align: top;\n",
       "    }\n",
       "\n",
       "    .dataframe thead th {\n",
       "        text-align: right;\n",
       "    }\n",
       "</style>\n",
       "<table border=\"1\" class=\"dataframe\">\n",
       "  <thead>\n",
       "    <tr style=\"text-align: right;\">\n",
       "      <th></th>\n",
       "      <th>Flight Number</th>\n",
       "      <th>Launch Site</th>\n",
       "      <th>class</th>\n",
       "      <th>Payload Mass (kg)</th>\n",
       "      <th>Booster Version</th>\n",
       "      <th>Booster Version Category</th>\n",
       "    </tr>\n",
       "  </thead>\n",
       "  <tbody>\n",
       "    <tr>\n",
       "      <th>0</th>\n",
       "      <td>1</td>\n",
       "      <td>CCAFS LC-40</td>\n",
       "      <td>0</td>\n",
       "      <td>0.0</td>\n",
       "      <td>F9 v1.0  B0003</td>\n",
       "      <td>v1.0</td>\n",
       "    </tr>\n",
       "    <tr>\n",
       "      <th>1</th>\n",
       "      <td>2</td>\n",
       "      <td>CCAFS LC-40</td>\n",
       "      <td>0</td>\n",
       "      <td>0.0</td>\n",
       "      <td>F9 v1.0  B0004</td>\n",
       "      <td>v1.0</td>\n",
       "    </tr>\n",
       "    <tr>\n",
       "      <th>2</th>\n",
       "      <td>3</td>\n",
       "      <td>CCAFS LC-40</td>\n",
       "      <td>0</td>\n",
       "      <td>525.0</td>\n",
       "      <td>F9 v1.0  B0005</td>\n",
       "      <td>v1.0</td>\n",
       "    </tr>\n",
       "    <tr>\n",
       "      <th>3</th>\n",
       "      <td>4</td>\n",
       "      <td>CCAFS LC-40</td>\n",
       "      <td>0</td>\n",
       "      <td>500.0</td>\n",
       "      <td>F9 v1.0  B0006</td>\n",
       "      <td>v1.0</td>\n",
       "    </tr>\n",
       "    <tr>\n",
       "      <th>4</th>\n",
       "      <td>5</td>\n",
       "      <td>CCAFS LC-40</td>\n",
       "      <td>0</td>\n",
       "      <td>677.0</td>\n",
       "      <td>F9 v1.0  B0007</td>\n",
       "      <td>v1.0</td>\n",
       "    </tr>\n",
       "  </tbody>\n",
       "</table>\n",
       "</div>"
      ],
      "text/plain": [
       "   Flight Number  Launch Site  class  Payload Mass (kg) Booster Version  \\\n",
       "0              1  CCAFS LC-40      0                0.0  F9 v1.0  B0003   \n",
       "1              2  CCAFS LC-40      0                0.0  F9 v1.0  B0004   \n",
       "2              3  CCAFS LC-40      0              525.0  F9 v1.0  B0005   \n",
       "3              4  CCAFS LC-40      0              500.0  F9 v1.0  B0006   \n",
       "4              5  CCAFS LC-40      0              677.0  F9 v1.0  B0007   \n",
       "\n",
       "  Booster Version Category  \n",
       "0                     v1.0  \n",
       "1                     v1.0  \n",
       "2                     v1.0  \n",
       "3                     v1.0  \n",
       "4                     v1.0  "
      ]
     },
     "execution_count": 10,
     "metadata": {},
     "output_type": "execute_result"
    }
   ],
   "source": [
    "# Loading the dataset into a pandas dataframe\n",
    "\n",
    "url = 'https://cf-courses-data.s3.us.cloud-object-storage.appdomain.cloud/IBM-DS0321EN-SkillsNetwork/datasets/spacex_launch_dash.csv'\n",
    "spacex_df = pd.read_csv(url, index_col = 0)\n",
    "spacex_df.head()"
   ]
  },
  {
   "cell_type": "code",
   "execution_count": 47,
   "metadata": {},
   "outputs": [
    {
     "name": "stdout",
     "output_type": "stream",
     "text": [
      "10000.0 0\n"
     ]
    }
   ],
   "source": [
    "max_payload = ((spacex_df['Payload Mass (kg)'].max()//2500)+1)*2500\n",
    "min_payload = int(spacex_df['Payload Mass (kg)'].min())\n",
    "print(max_payload, min_payload)"
   ]
  },
  {
   "cell_type": "code",
   "execution_count": 48,
   "metadata": {},
   "outputs": [],
   "source": [
    "options = [{'label': site, 'value': site} for site in spacex_df['Launch Site'].unique()]\n",
    "options.append({'label': 'All Sites', 'value': 'All Sites'})"
   ]
  },
  {
   "cell_type": "code",
   "execution_count": 49,
   "metadata": {},
   "outputs": [
    {
     "data": {
      "text/html": [
       "\n",
       "        <iframe\n",
       "            width=\"100%\"\n",
       "            height=\"650\"\n",
       "            src=\"http://127.0.0.1:8050/\"\n",
       "            frameborder=\"0\"\n",
       "            allowfullscreen\n",
       "            \n",
       "        ></iframe>\n",
       "        "
      ],
      "text/plain": [
       "<IPython.lib.display.IFrame at 0x12118f040>"
      ]
     },
     "metadata": {},
     "output_type": "display_data"
    },
    {
     "name": "stderr",
     "output_type": "stream",
     "text": [
      "/Users/anuj/Library/Python/3.9/lib/python/site-packages/plotly/express/_core.py:2065: FutureWarning:\n",
      "\n",
      "When grouping with a length-1 list-like, you will need to pass a length-1 tuple to get_group in a future version of pandas. Pass `(name,)` instead of `name` to silence this warning.\n",
      "\n",
      "/Users/anuj/Library/Python/3.9/lib/python/site-packages/plotly/express/_core.py:2065: FutureWarning:\n",
      "\n",
      "When grouping with a length-1 list-like, you will need to pass a length-1 tuple to get_group in a future version of pandas. Pass `(name,)` instead of `name` to silence this warning.\n",
      "\n"
     ]
    }
   ],
   "source": [
    "# Creating a Dash application\n",
    "\n",
    "app = dash.Dash(__name__)\n",
    "\n",
    "app.layout = html.Div(children = [html.H1('SpaceX Launch Records Dashboard',\n",
    "                                          style = {'textAlign': 'center', 'color': '#503D36', 'font-size': 40}),\n",
    "                                html.Br(),\n",
    "                                \n",
    "                                # Task 1: Add a dropdown list to enable launch site selection\n",
    "                                html.Div(dcc.Dropdown(id = 'site-dropdown',\n",
    "                                                      options = options,\n",
    "                                                      placeholder = 'Select a site',\n",
    "                                                      value = 'All Sites',\n",
    "                                                      )),#style = {'width': '80%', 'padding': '3px', 'font-size': 25, 'textAlign': 'center'})),\n",
    "                                html.Br(),\n",
    "\n",
    "                                # Task 2: Add a pie chart to show total successfull launch count for all sites\n",
    "                                # If a specific launch site is selected, then show the success vs failure count for the site\n",
    "                                html.Div(\n",
    "                                    dcc.Graph(id = 'success-pie-chart')),\n",
    "                                html.Br(),\n",
    "\n",
    "                                html.P('Payload Range (Kg):'),\n",
    "                                # Task 3: Add a slider to select payload range\n",
    "                                dcc.RangeSlider(id = 'payload-slider',\n",
    "                                                min = min_payload, \n",
    "                                                max = max_payload, \n",
    "                                                step = 2500,\n",
    "                                                value = [min_payload, max_payload],\n",
    "                                                marks = {i: f'{i:.0f}' for i in range(min_payload, 10000 + 1, 2500)}),\n",
    "                                html.Br(),\n",
    "\n",
    "                                # Task 4: Add a scatter chart to show the correlation between payload and launch success\n",
    "                                html.Div(dcc.Graph(id = 'success-payload-scatter-chart')),\n",
    "\n",
    "])\n",
    "\n",
    "# Task 2: Add a callback function for 'site-dropdown' as input, 'success-pie-chart' as output\n",
    "@app.callback(Output(component_id = 'success-pie-chart', component_property = 'figure'),\n",
    "               Input(component_id = 'site-dropdown', component_property = 'value'))\n",
    "\n",
    "def generate_pie(site):\n",
    "    if site == 'All Sites':\n",
    "        success_pie_df = spacex_df.groupby('Launch Site', as_index = False)['class'].sum()\n",
    "        fig = px.pie(success_pie_df, values = 'class', names = 'Launch Site')\n",
    "        fig.update_layout(title = {'text': 'Total Success Launches by Site', 'x': 0.005, 'y': 0.98, 'xanchor': 'left', 'yanchor': 'top'})\n",
    "        return fig\n",
    "    else:\n",
    "        pie_df = spacex_df[spacex_df['Launch Site'] == site]\n",
    "        pie_df = pie_df.groupby('class', as_index = True)['class'].count()\n",
    "        pie_df = pie_df.to_frame()\n",
    "        pie_df.rename(columns = {'class': 'count'}, inplace = True)\n",
    "        pie_df.reset_index(inplace = True)\n",
    "        pie_df['class'].replace({0: 'Failure', 1: 'Success'}, inplace = True)\n",
    "        fig = px.pie(pie_df, names = 'class', values = 'count')\n",
    "        fig.update_layout(title = {'text': 'Success vs Failure for ' + site + 'Site', 'x': 0.005, 'y': 0.98, 'xanchor': 'left', 'yanchor': 'top'})\n",
    "        return fig\n",
    "    \n",
    "# Task 4: Add a calback function for 'site-dropdown' and 'payload-slider' as inputs and 'success-payload-scatter-chart' as output\n",
    "@app.callback(Output(component_id = 'success-payload-scatter-chart', component_property = 'figure'),\n",
    "               [Input(component_id = 'site-dropdown', component_property = 'value'),\n",
    "                Input(component_id = 'payload-slider', component_property = 'value')])\n",
    "\n",
    "def generate_scatter(site, range_):\n",
    "    min_weight = range_[0]\n",
    "    max_weight = range_[1]\n",
    "    scatter_df = spacex_df[(spacex_df['Payload Mass (kg)'] >= min_weight) & (spacex_df['Payload Mass (kg)'] <= max_weight)]\n",
    "    if site == 'All Sites':\n",
    "        fig = px.scatter(scatter_df, \n",
    "                    x = 'Payload Mass (kg)', \n",
    "                    y = 'class',\n",
    "                    color = 'Booster Version Category' \n",
    "                    )\n",
    "        fig.update_layout(title = {'text': 'Correlation between Payload and Success for All Sites', 'x': 0.005, 'y': 0.98, 'xanchor': 'left', 'yanchor': 'top'},)\n",
    "        fig.update_xaxes(tickformat = 'd')\n",
    "        return fig\n",
    "    else:\n",
    "        scatter_df = scatter_df[scatter_df['Launch Site'] == site]\n",
    "        fig = px.scatter(scatter_df, x = 'Payload Mass (kg)', y = 'class', color = 'Booster Version Category')\n",
    "        fig.update_layout(title = {'text': 'Correlation between Payload and Success for ' + site, 'x': 0.005, 'y': 0.98, 'xanchor': 'left', 'yanchor': 'top'})\n",
    "        fig.update_xaxes(tickformat = 'd')\n",
    "        return fig\n",
    "    \n",
    "if __name__ == '__main__':\n",
    "    app.run_server()\n"
   ]
  },
  {
   "cell_type": "markdown",
   "metadata": {},
   "source": [
    "#### Plotly Dash Reference"
   ]
  },
  {
   "cell_type": "markdown",
   "metadata": {},
   "source": [
    "**Dropdown (Input) component**\n",
    "\n",
    "Refer <a href = 'https://dash.plotly.com/dash-core-components/dropdown'>here</a> for more details about <code>dcc.Dropdown()</code>"
   ]
  },
  {
   "cell_type": "markdown",
   "metadata": {},
   "source": [
    "**Range slider (Input) component**\n",
    "\n",
    "Refer <a href = 'https://dash.plotly.com/dash-core-components/rangeslider'>here</a> for more details about <code>dcc.RangeSlider()</code>"
   ]
  },
  {
   "cell_type": "markdown",
   "metadata": {},
   "source": [
    "**Pie chart (Output) component**\n",
    "\n",
    "Refer <a href = 'https://plotly.com/python/pie-charts/'>here</a> for more details about plotly pie charts"
   ]
  },
  {
   "cell_type": "markdown",
   "metadata": {},
   "source": [
    "**Scatter chart (Output) component**\n",
    "\n",
    "Refer <a href = 'https://plotly.com/python/line-and-scatter/'>here</a> for more details about plotly scatter charts"
   ]
  },
  {
   "cell_type": "markdown",
   "metadata": {},
   "source": [
    "#### End of File"
   ]
  },
  {
   "cell_type": "code",
   "execution_count": 3,
   "metadata": {},
   "outputs": [],
   "source": [
    "# Questions:\n",
    "\n",
    "# Q1 Which site has the largest successful launches?\n",
    "# Answer - \n",
    "\n",
    "# Q2 Which site has the highest launch success rate?\n",
    "# Answer - \n",
    "\n",
    "# Q3 Which payload range(s) has the highest launch success rate?\n",
    "# Answer - \n",
    "\n",
    "# Q4 Which payload range(s) has the lowest launch success rate?\n",
    "# Answer - \n",
    "\n",
    "# Q5 Which F9 Booster version (v1.0, v1.1, FT, B4, B5, etc.) has the highest launch success rate?\n",
    "# Answer - "
   ]
  }
 ],
 "metadata": {
  "kernelspec": {
   "display_name": "Python 3",
   "language": "python",
   "name": "python3"
  },
  "language_info": {
   "codemirror_mode": {
    "name": "ipython",
    "version": 3
   },
   "file_extension": ".py",
   "mimetype": "text/x-python",
   "name": "python",
   "nbconvert_exporter": "python",
   "pygments_lexer": "ipython3",
   "version": "3.9.6"
  }
 },
 "nbformat": 4,
 "nbformat_minor": 2
}
